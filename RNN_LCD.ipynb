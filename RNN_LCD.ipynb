{
 "cells": [
  {
   "cell_type": "code",
   "execution_count": 1,
   "metadata": {},
   "outputs": [
    {
     "name": "stderr",
     "output_type": "stream",
     "text": [
      "2024-05-12 17:46:53.235716: I tensorflow/core/platform/cpu_feature_guard.cc:210] This TensorFlow binary is optimized to use available CPU instructions in performance-critical operations.\n",
      "To enable the following instructions: AVX2 AVX512F FMA, in other operations, rebuild TensorFlow with the appropriate compiler flags.\n",
      "2024-05-12 17:46:54.582560: W tensorflow/compiler/tf2tensorrt/utils/py_utils.cc:38] TF-TRT Warning: Could not find TensorRT\n"
     ]
    }
   ],
   "source": [
    "import os\n",
    "import numpy as np\n",
    "import pandas as pd\n",
    "import matplotlib.pyplot as plt\n",
    "from sklearn.model_selection import train_test_split\n",
    "from tensorflow.keras.preprocessing.image import ImageDataGenerator \n",
    "from tensorflow.keras.models import Sequential\n",
    "from tensorflow.keras.layers import LSTM, Flatten, Dense, Dropout, Reshape\n",
    "from keras.regularizers import l2\n",
    "from keras.callbacks import EarlyStopping"
   ]
  },
  {
   "cell_type": "code",
   "execution_count": 2,
   "metadata": {},
   "outputs": [],
   "source": [
    "data_dir = '/teamspace/studios/this_studio/Augmented Data'\n",
    "image_files = [os.path.join(data_dir, file) for file in os.listdir(data_dir) if file.endswith('.jpeg')]"
   ]
  },
  {
   "cell_type": "code",
   "execution_count": 3,
   "metadata": {},
   "outputs": [],
   "source": [
    "labels = [0 if 'Benign' in file else 1 for file in image_files]"
   ]
  },
  {
   "cell_type": "code",
   "execution_count": 4,
   "metadata": {},
   "outputs": [],
   "source": [
    "train_files, test_val_files, train_labels, test_val_labels = train_test_split(image_files, labels, test_size=0.4, random_state=42)\n",
    "val_files, test_files, val_labels, test_labels = train_test_split(test_val_files, test_val_labels, test_size=0.5, random_state=42)"
   ]
  },
  {
   "cell_type": "code",
   "execution_count": 5,
   "metadata": {},
   "outputs": [
    {
     "data": {
      "text/plain": [
       "[1, 1, 1, 1, 1]"
      ]
     },
     "execution_count": 5,
     "metadata": {},
     "output_type": "execute_result"
    }
   ],
   "source": [
    "train_labels[:5]"
   ]
  },
  {
   "cell_type": "code",
   "execution_count": 6,
   "metadata": {},
   "outputs": [
    {
     "name": "stdout",
     "output_type": "stream",
     "text": [
      "Found 4372 validated image filenames.\n",
      "Found 1457 validated image filenames.\n",
      "Found 1458 validated image filenames.\n"
     ]
    }
   ],
   "source": [
    "# Convert labels to string type\n",
    "# train_labels_str = [str(label) for label in train_labels]\n",
    "# val_labels_str = [str(label) for label in val_labels]\n",
    "# test_labels_str = [str(label) for label in test_labels]\n",
    "datagen = ImageDataGenerator(rescale=1./255)\n",
    "batch_size = 32\n",
    "\n",
    "train_labels_str =  train_labels\n",
    "val_labels_str = val_labels\n",
    "test_labels_str = test_labels\n",
    "\n",
    "train_generator = datagen.flow_from_dataframe(\n",
    "    dataframe=pd.DataFrame({'filename': train_files, 'class': train_labels_str}),\n",
    "    x_col='filename',\n",
    "    y_col='class',\n",
    "    target_size=(150, 150),\n",
    "    batch_size=batch_size,\n",
    "    class_mode='raw'\n",
    "\n",
    ")\n",
    "\n",
    "val_generator = datagen.flow_from_dataframe(\n",
    "    dataframe=pd.DataFrame({'filename': val_files, 'class': val_labels_str}),\n",
    "    x_col='filename',\n",
    "    y_col='class',\n",
    "    target_size=(150, 150),\n",
    "    batch_size=batch_size,\n",
    "    class_mode='raw'\n",
    ")\n",
    "\n",
    "test_generator = datagen.flow_from_dataframe(\n",
    "    dataframe=pd.DataFrame({'filename': test_files, 'class': test_labels_str}),\n",
    "    x_col='filename',\n",
    "    y_col='class',\n",
    "    target_size=(150, 150),\n",
    "    batch_size=batch_size,\n",
    "    class_mode='raw'\n",
    "\n",
    ")\n"
   ]
  },
  {
   "cell_type": "code",
   "execution_count": 7,
   "metadata": {},
   "outputs": [
    {
     "name": "stderr",
     "output_type": "stream",
     "text": [
      "/home/zeus/miniconda3/envs/cloudspace/lib/python3.10/site-packages/keras/src/layers/reshaping/reshape.py:39: UserWarning: Do not pass an `input_shape`/`input_dim` argument to a layer. When using Sequential models, prefer using an `Input(shape)` object as the first layer in the model instead.\n",
      "  super().__init__(**kwargs)\n"
     ]
    }
   ],
   "source": [
    "# model = Sequential([\n",
    "#     LSTM(64, input_shape=(None, 150*150*3)),\n",
    "#     Flatten(),\n",
    "#     Dense(64, activation='relu'),\n",
    "#     Dropout(0.5),\n",
    "#     Dense(1, activation='sigmoid')\n",
    "# ])\n",
    "\n",
    "model = Sequential([\n",
    "    Reshape((150, 450), input_shape=(150, 150, 3)),  # Reshape from (150, 150, 3) to (150, 450)\n",
    "    LSTM(64),\n",
    "    Dense(64, activation='relu'),\n",
    "    Dropout(0.5),\n",
    "    Dense(1, activation='sigmoid')\n",
    "])"
   ]
  },
  {
   "cell_type": "code",
   "execution_count": 8,
   "metadata": {},
   "outputs": [],
   "source": [
    "model = Sequential([\n",
    "    Reshape((150, 450), input_shape=(150, 150, 3)),\n",
    "    LSTM(64),\n",
    "    Dense(64, activation='relu', kernel_regularizer=l2(0.001)),  # L2 regularization\n",
    "    Dropout(0.5),\n",
    "    Dense(1, activation='sigmoid')\n",
    "])\n",
    "\n",
    "early_stop = EarlyStopping(monitor='val_loss', patience=5)  # Early stopping"
   ]
  },
  {
   "cell_type": "code",
   "execution_count": 9,
   "metadata": {},
   "outputs": [],
   "source": [
    "# Compile the model\n",
    "model.compile(optimizer='adam', loss='binary_crossentropy', metrics=['accuracy'])"
   ]
  },
  {
   "cell_type": "code",
   "execution_count": 10,
   "metadata": {},
   "outputs": [
    {
     "name": "stdout",
     "output_type": "stream",
     "text": [
      "Epoch 1/50\n"
     ]
    },
    {
     "name": "stderr",
     "output_type": "stream",
     "text": [
      "/home/zeus/miniconda3/envs/cloudspace/lib/python3.10/site-packages/keras/src/trainers/data_adapters/py_dataset_adapter.py:121: UserWarning: Your `PyDataset` class should call `super().__init__(**kwargs)` in its constructor. `**kwargs` can include `workers`, `use_multiprocessing`, `max_queue_size`. Do not pass these arguments to `fit()`, as they will be ignored.\n",
      "  self._warn_if_super_not_called()\n"
     ]
    },
    {
     "name": "stdout",
     "output_type": "stream",
     "text": [
      "\u001b[1m137/137\u001b[0m \u001b[32m━━━━━━━━━━━━━━━━━━━━\u001b[0m\u001b[37m\u001b[0m \u001b[1m15s\u001b[0m 92ms/step - accuracy: 0.6492 - loss: 0.7087 - val_accuracy: 0.6438 - val_loss: 0.6666\n",
      "Epoch 2/50\n",
      "\u001b[1m137/137\u001b[0m \u001b[32m━━━━━━━━━━━━━━━━━━━━\u001b[0m\u001b[37m\u001b[0m \u001b[1m13s\u001b[0m 90ms/step - accuracy: 0.6568 - loss: 0.6600 - val_accuracy: 0.6438 - val_loss: 0.6393\n",
      "Epoch 3/50\n",
      "\u001b[1m137/137\u001b[0m \u001b[32m━━━━━━━━━━━━━━━━━━━━\u001b[0m\u001b[37m\u001b[0m \u001b[1m13s\u001b[0m 90ms/step - accuracy: 0.6656 - loss: 0.6302 - val_accuracy: 0.6438 - val_loss: 0.6176\n",
      "Epoch 4/50\n",
      "\u001b[1m137/137\u001b[0m \u001b[32m━━━━━━━━━━━━━━━━━━━━\u001b[0m\u001b[37m\u001b[0m \u001b[1m12s\u001b[0m 89ms/step - accuracy: 0.6456 - loss: 0.6235 - val_accuracy: 0.6362 - val_loss: 0.6040\n",
      "Epoch 5/50\n",
      "\u001b[1m137/137\u001b[0m \u001b[32m━━━━━━━━━━━━━━━━━━━━\u001b[0m\u001b[37m\u001b[0m \u001b[1m13s\u001b[0m 90ms/step - accuracy: 0.6670 - loss: 0.5965 - val_accuracy: 0.6644 - val_loss: 0.5980\n",
      "Epoch 6/50\n",
      "\u001b[1m137/137\u001b[0m \u001b[32m━━━━━━━━━━━━━━━━━━━━\u001b[0m\u001b[37m\u001b[0m \u001b[1m13s\u001b[0m 91ms/step - accuracy: 0.6590 - loss: 0.5934 - val_accuracy: 0.6438 - val_loss: 0.5888\n",
      "Epoch 7/50\n",
      "\u001b[1m137/137\u001b[0m \u001b[32m━━━━━━━━━━━━━━━━━━━━\u001b[0m\u001b[37m\u001b[0m \u001b[1m13s\u001b[0m 90ms/step - accuracy: 0.6680 - loss: 0.5784 - val_accuracy: 0.6644 - val_loss: 0.5812\n",
      "Epoch 8/50\n",
      "\u001b[1m137/137\u001b[0m \u001b[32m━━━━━━━━━━━━━━━━━━━━\u001b[0m\u001b[37m\u001b[0m \u001b[1m12s\u001b[0m 89ms/step - accuracy: 0.6689 - loss: 0.5603 - val_accuracy: 0.6726 - val_loss: 0.5677\n",
      "Epoch 9/50\n",
      "\u001b[1m137/137\u001b[0m \u001b[32m━━━━━━━━━━━━━━━━━━━━\u001b[0m\u001b[37m\u001b[0m \u001b[1m13s\u001b[0m 91ms/step - accuracy: 0.6624 - loss: 0.5723 - val_accuracy: 0.6438 - val_loss: 0.6755\n",
      "Epoch 10/50\n",
      "\u001b[1m137/137\u001b[0m \u001b[32m━━━━━━━━━━━━━━━━━━━━\u001b[0m\u001b[37m\u001b[0m \u001b[1m12s\u001b[0m 89ms/step - accuracy: 0.6506 - loss: 0.6245 - val_accuracy: 0.6438 - val_loss: 0.5908\n",
      "Epoch 11/50\n",
      "\u001b[1m137/137\u001b[0m \u001b[32m━━━━━━━━━━━━━━━━━━━━\u001b[0m\u001b[37m\u001b[0m \u001b[1m13s\u001b[0m 91ms/step - accuracy: 0.6630 - loss: 0.5863 - val_accuracy: 0.6438 - val_loss: 0.5852\n",
      "Epoch 12/50\n",
      "\u001b[1m137/137\u001b[0m \u001b[32m━━━━━━━━━━━━━━━━━━━━\u001b[0m\u001b[37m\u001b[0m \u001b[1m12s\u001b[0m 84ms/step - accuracy: 0.6661 - loss: 0.5556 - val_accuracy: 0.6438 - val_loss: 0.5677\n",
      "Epoch 13/50\n",
      "\u001b[1m137/137\u001b[0m \u001b[32m━━━━━━━━━━━━━━━━━━━━\u001b[0m\u001b[37m\u001b[0m \u001b[1m12s\u001b[0m 85ms/step - accuracy: 0.6654 - loss: 0.5436 - val_accuracy: 0.6417 - val_loss: 0.5647\n",
      "Epoch 14/50\n",
      "\u001b[1m137/137\u001b[0m \u001b[32m━━━━━━━━━━━━━━━━━━━━\u001b[0m\u001b[37m\u001b[0m \u001b[1m12s\u001b[0m 84ms/step - accuracy: 0.6687 - loss: 0.5352 - val_accuracy: 0.6740 - val_loss: 0.5602\n",
      "Epoch 15/50\n",
      "\u001b[1m137/137\u001b[0m \u001b[32m━━━━━━━━━━━━━━━━━━━━\u001b[0m\u001b[37m\u001b[0m \u001b[1m12s\u001b[0m 84ms/step - accuracy: 0.6771 - loss: 0.5319 - val_accuracy: 0.6397 - val_loss: 0.5538\n",
      "Epoch 16/50\n",
      "\u001b[1m137/137\u001b[0m \u001b[32m━━━━━━━━━━━━━━━━━━━━\u001b[0m\u001b[37m\u001b[0m \u001b[1m12s\u001b[0m 84ms/step - accuracy: 0.6766 - loss: 0.5308 - val_accuracy: 0.6541 - val_loss: 0.5558\n",
      "Epoch 17/50\n",
      "\u001b[1m137/137\u001b[0m \u001b[32m━━━━━━━━━━━━━━━━━━━━\u001b[0m\u001b[37m\u001b[0m \u001b[1m12s\u001b[0m 84ms/step - accuracy: 0.6970 - loss: 0.5097 - val_accuracy: 0.6541 - val_loss: 0.5456\n",
      "Epoch 18/50\n",
      "\u001b[1m137/137\u001b[0m \u001b[32m━━━━━━━━━━━━━━━━━━━━\u001b[0m\u001b[37m\u001b[0m \u001b[1m12s\u001b[0m 85ms/step - accuracy: 0.6911 - loss: 0.5084 - val_accuracy: 0.6699 - val_loss: 0.5501\n",
      "Epoch 19/50\n",
      "\u001b[1m137/137\u001b[0m \u001b[32m━━━━━━━━━━━━━━━━━━━━\u001b[0m\u001b[37m\u001b[0m \u001b[1m12s\u001b[0m 85ms/step - accuracy: 0.6829 - loss: 0.5141 - val_accuracy: 0.6637 - val_loss: 0.5488\n",
      "Epoch 20/50\n",
      "\u001b[1m137/137\u001b[0m \u001b[32m━━━━━━━━━━━━━━━━━━━━\u001b[0m\u001b[37m\u001b[0m \u001b[1m12s\u001b[0m 85ms/step - accuracy: 0.6936 - loss: 0.4983 - val_accuracy: 0.6671 - val_loss: 0.5376\n",
      "Epoch 21/50\n",
      "\u001b[1m137/137\u001b[0m \u001b[32m━━━━━━━━━━━━━━━━━━━━\u001b[0m\u001b[37m\u001b[0m \u001b[1m12s\u001b[0m 85ms/step - accuracy: 0.6822 - loss: 0.5086 - val_accuracy: 0.6616 - val_loss: 0.5416\n",
      "Epoch 22/50\n",
      "\u001b[1m137/137\u001b[0m \u001b[32m━━━━━━━━━━━━━━━━━━━━\u001b[0m\u001b[37m\u001b[0m \u001b[1m12s\u001b[0m 84ms/step - accuracy: 0.6971 - loss: 0.4999 - val_accuracy: 0.6699 - val_loss: 0.5377\n",
      "Epoch 23/50\n",
      "\u001b[1m137/137\u001b[0m \u001b[32m━━━━━━━━━━━━━━━━━━━━\u001b[0m\u001b[37m\u001b[0m \u001b[1m12s\u001b[0m 84ms/step - accuracy: 0.6964 - loss: 0.4961 - val_accuracy: 0.6747 - val_loss: 0.5415\n",
      "Epoch 24/50\n",
      "\u001b[1m137/137\u001b[0m \u001b[32m━━━━━━━━━━━━━━━━━━━━\u001b[0m\u001b[37m\u001b[0m \u001b[1m12s\u001b[0m 85ms/step - accuracy: 0.6940 - loss: 0.5039 - val_accuracy: 0.6747 - val_loss: 0.5357\n",
      "Epoch 25/50\n",
      "\u001b[1m137/137\u001b[0m \u001b[32m━━━━━━━━━━━━━━━━━━━━\u001b[0m\u001b[37m\u001b[0m \u001b[1m12s\u001b[0m 84ms/step - accuracy: 0.6968 - loss: 0.4998 - val_accuracy: 0.6630 - val_loss: 0.5391\n",
      "Epoch 26/50\n",
      "\u001b[1m137/137\u001b[0m \u001b[32m━━━━━━━━━━━━━━━━━━━━\u001b[0m\u001b[37m\u001b[0m \u001b[1m12s\u001b[0m 84ms/step - accuracy: 0.7102 - loss: 0.4869 - val_accuracy: 0.6815 - val_loss: 0.5337\n",
      "Epoch 27/50\n",
      "\u001b[1m137/137\u001b[0m \u001b[32m━━━━━━━━━━━━━━━━━━━━\u001b[0m\u001b[37m\u001b[0m \u001b[1m12s\u001b[0m 84ms/step - accuracy: 0.7082 - loss: 0.4879 - val_accuracy: 0.6754 - val_loss: 0.5379\n",
      "Epoch 28/50\n",
      "\u001b[1m137/137\u001b[0m \u001b[32m━━━━━━━━━━━━━━━━━━━━\u001b[0m\u001b[37m\u001b[0m \u001b[1m12s\u001b[0m 85ms/step - accuracy: 0.7166 - loss: 0.4759 - val_accuracy: 0.6685 - val_loss: 0.5276\n",
      "Epoch 29/50\n",
      "\u001b[1m137/137\u001b[0m \u001b[32m━━━━━━━━━━━━━━━━━━━━\u001b[0m\u001b[37m\u001b[0m \u001b[1m13s\u001b[0m 90ms/step - accuracy: 0.7267 - loss: 0.4719 - val_accuracy: 0.6781 - val_loss: 0.5469\n",
      "Epoch 30/50\n",
      "\u001b[1m137/137\u001b[0m \u001b[32m━━━━━━━━━━━━━━━━━━━━\u001b[0m\u001b[37m\u001b[0m \u001b[1m13s\u001b[0m 95ms/step - accuracy: 0.7280 - loss: 0.4665 - val_accuracy: 0.6829 - val_loss: 0.5514\n",
      "Epoch 31/50\n",
      "\u001b[1m137/137\u001b[0m \u001b[32m━━━━━━━━━━━━━━━━━━━━\u001b[0m\u001b[37m\u001b[0m \u001b[1m13s\u001b[0m 90ms/step - accuracy: 0.7171 - loss: 0.4756 - val_accuracy: 0.6692 - val_loss: 0.5553\n",
      "Epoch 32/50\n",
      "\u001b[1m137/137\u001b[0m \u001b[32m━━━━━━━━━━━━━━━━━━━━\u001b[0m\u001b[37m\u001b[0m \u001b[1m13s\u001b[0m 90ms/step - accuracy: 0.7128 - loss: 0.4634 - val_accuracy: 0.6733 - val_loss: 0.5577\n",
      "Epoch 33/50\n",
      "\u001b[1m137/137\u001b[0m \u001b[32m━━━━━━━━━━━━━━━━━━━━\u001b[0m\u001b[37m\u001b[0m \u001b[1m13s\u001b[0m 90ms/step - accuracy: 0.7307 - loss: 0.4644 - val_accuracy: 0.6740 - val_loss: 0.5513\n",
      "Epoch 34/50\n",
      "\u001b[1m137/137\u001b[0m \u001b[32m━━━━━━━━━━━━━━━━━━━━\u001b[0m\u001b[37m\u001b[0m \u001b[1m13s\u001b[0m 90ms/step - accuracy: 0.7490 - loss: 0.4479 - val_accuracy: 0.6891 - val_loss: 0.5777\n",
      "Epoch 35/50\n",
      "\u001b[1m137/137\u001b[0m \u001b[32m━━━━━━━━━━━━━━━━━━━━\u001b[0m\u001b[37m\u001b[0m \u001b[1m13s\u001b[0m 90ms/step - accuracy: 0.7279 - loss: 0.4654 - val_accuracy: 0.6630 - val_loss: 0.5412\n",
      "Epoch 36/50\n",
      "\u001b[1m137/137\u001b[0m \u001b[32m━━━━━━━━━━━━━━━━━━━━\u001b[0m\u001b[37m\u001b[0m \u001b[1m13s\u001b[0m 90ms/step - accuracy: 0.7499 - loss: 0.4445 - val_accuracy: 0.6664 - val_loss: 0.5596\n",
      "Epoch 37/50\n",
      "\u001b[1m137/137\u001b[0m \u001b[32m━━━━━━━━━━━━━━━━━━━━\u001b[0m\u001b[37m\u001b[0m \u001b[1m13s\u001b[0m 91ms/step - accuracy: 0.7495 - loss: 0.4412 - val_accuracy: 0.6877 - val_loss: 0.5616\n",
      "Epoch 38/50\n",
      "\u001b[1m137/137\u001b[0m \u001b[32m━━━━━━━━━━━━━━━━━━━━\u001b[0m\u001b[37m\u001b[0m \u001b[1m13s\u001b[0m 90ms/step - accuracy: 0.7492 - loss: 0.4381 - val_accuracy: 0.6891 - val_loss: 0.5817\n",
      "Epoch 39/50\n",
      "\u001b[1m137/137\u001b[0m \u001b[32m━━━━━━━━━━━━━━━━━━━━\u001b[0m\u001b[37m\u001b[0m \u001b[1m13s\u001b[0m 90ms/step - accuracy: 0.7486 - loss: 0.4492 - val_accuracy: 0.6802 - val_loss: 0.5737\n",
      "Epoch 40/50\n",
      "\u001b[1m137/137\u001b[0m \u001b[32m━━━━━━━━━━━━━━━━━━━━\u001b[0m\u001b[37m\u001b[0m \u001b[1m13s\u001b[0m 90ms/step - accuracy: 0.7846 - loss: 0.4046 - val_accuracy: 0.6795 - val_loss: 0.5689\n",
      "Epoch 41/50\n",
      "\u001b[1m137/137\u001b[0m \u001b[32m━━━━━━━━━━━━━━━━━━━━\u001b[0m\u001b[37m\u001b[0m \u001b[1m13s\u001b[0m 90ms/step - accuracy: 0.7803 - loss: 0.4055 - val_accuracy: 0.6726 - val_loss: 0.5674\n",
      "Epoch 42/50\n",
      "\u001b[1m137/137\u001b[0m \u001b[32m━━━━━━━━━━━━━━━━━━━━\u001b[0m\u001b[37m\u001b[0m \u001b[1m13s\u001b[0m 90ms/step - accuracy: 0.7866 - loss: 0.4022 - val_accuracy: 0.6774 - val_loss: 0.5710\n",
      "Epoch 43/50\n",
      "\u001b[1m137/137\u001b[0m \u001b[32m━━━━━━━━━━━━━━━━━━━━\u001b[0m\u001b[37m\u001b[0m \u001b[1m13s\u001b[0m 90ms/step - accuracy: 0.7813 - loss: 0.4033 - val_accuracy: 0.6740 - val_loss: 0.5759\n",
      "Epoch 44/50\n",
      "\u001b[1m137/137\u001b[0m \u001b[32m━━━━━━━━━━━━━━━━━━━━\u001b[0m\u001b[37m\u001b[0m \u001b[1m13s\u001b[0m 90ms/step - accuracy: 0.7847 - loss: 0.4050 - val_accuracy: 0.6960 - val_loss: 0.5874\n",
      "Epoch 45/50\n",
      "\u001b[1m137/137\u001b[0m \u001b[32m━━━━━━━━━━━━━━━━━━━━\u001b[0m\u001b[37m\u001b[0m \u001b[1m13s\u001b[0m 90ms/step - accuracy: 0.7957 - loss: 0.3912 - val_accuracy: 0.6829 - val_loss: 0.5689\n",
      "Epoch 46/50\n",
      "\u001b[1m137/137\u001b[0m \u001b[32m━━━━━━━━━━━━━━━━━━━━\u001b[0m\u001b[37m\u001b[0m \u001b[1m13s\u001b[0m 90ms/step - accuracy: 0.7824 - loss: 0.4079 - val_accuracy: 0.6966 - val_loss: 0.5978\n",
      "Epoch 47/50\n",
      "\u001b[1m137/137\u001b[0m \u001b[32m━━━━━━━━━━━━━━━━━━━━\u001b[0m\u001b[37m\u001b[0m \u001b[1m12s\u001b[0m 88ms/step - accuracy: 0.8015 - loss: 0.3872 - val_accuracy: 0.6760 - val_loss: 0.5856\n",
      "Epoch 48/50\n",
      "\u001b[1m137/137\u001b[0m \u001b[32m━━━━━━━━━━━━━━━━━━━━\u001b[0m\u001b[37m\u001b[0m \u001b[1m13s\u001b[0m 90ms/step - accuracy: 0.8014 - loss: 0.3847 - val_accuracy: 0.6911 - val_loss: 0.6339\n",
      "Epoch 49/50\n",
      "\u001b[1m137/137\u001b[0m \u001b[32m━━━━━━━━━━━━━━━━━━━━\u001b[0m\u001b[37m\u001b[0m \u001b[1m12s\u001b[0m 89ms/step - accuracy: 0.8140 - loss: 0.3724 - val_accuracy: 0.6925 - val_loss: 0.6236\n",
      "Epoch 50/50\n",
      "\u001b[1m137/137\u001b[0m \u001b[32m━━━━━━━━━━━━━━━━━━━━\u001b[0m\u001b[37m\u001b[0m \u001b[1m12s\u001b[0m 89ms/step - accuracy: 0.8200 - loss: 0.3648 - val_accuracy: 0.6747 - val_loss: 0.6686\n"
     ]
    }
   ],
   "source": [
    "# Fit the model\n",
    "history = model.fit(train_generator, epochs=50, validation_data=val_generator)"
   ]
  },
  {
   "cell_type": "code",
   "execution_count": 11,
   "metadata": {},
   "outputs": [
    {
     "name": "stdout",
     "output_type": "stream",
     "text": [
      "\u001b[1m46/46\u001b[0m \u001b[32m━━━━━━━━━━━━━━━━━━━━\u001b[0m\u001b[37m\u001b[0m \u001b[1m2s\u001b[0m 40ms/step - accuracy: 0.6533 - loss: 0.6753\n",
      "Test Loss: 0.6946873068809509, Test Accuracy: 0.659122109413147\n"
     ]
    }
   ],
   "source": [
    "test_loss, test_accuracy = model.evaluate(test_generator)\n",
    "print(f\"Test Loss: {test_loss}, Test Accuracy: {test_accuracy}\")\n"
   ]
  },
  {
   "cell_type": "code",
   "execution_count": 12,
   "metadata": {},
   "outputs": [
    {
     "name": "stdout",
     "output_type": "stream",
     "text": [
      "\u001b[1m46/46\u001b[0m \u001b[32m━━━━━━━━━━━━━━━━━━━━\u001b[0m\u001b[37m\u001b[0m \u001b[1m2s\u001b[0m 39ms/step\n",
      "Precision: 0.6412315930388219\n",
      "Recall: 0.5117521367521367\n",
      "F1 Score: 0.5692216280451574\n",
      "Accuracy: 0.5027434842249657\n"
     ]
    }
   ],
   "source": [
    "from sklearn.metrics import precision_score, recall_score, f1_score, accuracy_score\n",
    "\n",
    "# Predict probabilities for the test set\n",
    "y_pred_proba = model.predict(test_generator)\n",
    "\n",
    "# Convert probabilities to binary predictions\n",
    "y_pred = (y_pred_proba > 0.5).astype(int)\n",
    "\n",
    "# Convert y_pred to 1D array\n",
    "y_pred = y_pred.squeeze()\n",
    "\n",
    "# Compute metrics\n",
    "precision = precision_score(test_labels, y_pred)\n",
    "recall = recall_score(test_labels, y_pred)\n",
    "f1 = f1_score(test_labels, y_pred)\n",
    "accuracy = accuracy_score(test_labels, y_pred)\n",
    "\n",
    "print(\"Precision:\", precision)\n",
    "print(\"Recall:\", recall)\n",
    "print(\"F1 Score:\", f1)\n",
    "print(\"Accuracy:\", accuracy)"
   ]
  },
  {
   "cell_type": "code",
   "execution_count": 14,
   "metadata": {},
   "outputs": [
    {
     "name": "stderr",
     "output_type": "stream",
     "text": [
      "WARNING:absl:Compiled the loaded model, but the compiled metrics have yet to be built. `model.compile_metrics` will be empty until you train or evaluate the model.\n"
     ]
    },
    {
     "name": "stdout",
     "output_type": "stream",
     "text": [
      "\u001b[1m1/1\u001b[0m \u001b[32m━━━━━━━━━━━━━━━━━━━━\u001b[0m\u001b[37m\u001b[0m \u001b[1m0s\u001b[0m 73ms/step\n",
      "Prediction: Benign\n"
     ]
    }
   ],
   "source": [
    "import numpy as np\n",
    "import tensorflow as tf\n",
    "from tensorflow.keras.preprocessing import image\n",
    "\n",
    "# Load the trained model\n",
    "model = tf.keras.models.load_model('/teamspace/studios/this_studio/Saved Models/model.h5')\n",
    "\n",
    "# Function to preprocess the uploaded image\n",
    "def preprocess_image(image_path):\n",
    "    img = image.load_img(image_path, target_size=(150, 150))\n",
    "    img_array = image.img_to_array(img)\n",
    "    img_array = np.expand_dims(img_array, axis=0)\n",
    "    return img_array\n",
    "\n",
    "# Function to make predictions\n",
    "def predict_image(image_path):\n",
    "    preprocessed_img = preprocess_image(image_path)\n",
    "    prediction = model.predict(preprocessed_img)\n",
    "    if prediction < 0.5:\n",
    "        return 'Benign'\n",
    "    else:\n",
    "        return 'Malignant'\n",
    "\n",
    "# Upload a sample image and specify its path\n",
    "uploaded_image_path = '/teamspace/studios/this_studio/Augmented Data/aug_Benign_0_8182.jpeg'  # Modify this with the path to your uploaded image\n",
    "\n",
    "# Make a prediction\n",
    "prediction = predict_image(uploaded_image_path)\n",
    "print('Prediction:', prediction)"
   ]
  },
  {
   "cell_type": "code",
   "execution_count": 2,
   "metadata": {},
   "outputs": [
    {
     "name": "stderr",
     "output_type": "stream",
     "text": [
      "WARNING:absl:Compiled the loaded model, but the compiled metrics have yet to be built. `model.compile_metrics` will be empty until you train or evaluate the model.\n"
     ]
    },
    {
     "name": "stdout",
     "output_type": "stream",
     "text": [
      "\u001b[1m1/1\u001b[0m \u001b[32m━━━━━━━━━━━━━━━━━━━━\u001b[0m\u001b[37m\u001b[0m \u001b[1m0s\u001b[0m 71ms/step\n",
      "Prediction: Malignant\n"
     ]
    }
   ],
   "source": [
    "import numpy as np\n",
    "import tensorflow as tf\n",
    "from tensorflow.keras.preprocessing import image\n",
    "\n",
    "# Load the trained model\n",
    "model = tf.keras.models.load_model('/teamspace/studios/this_studio/Saved Models/model.h5')\n",
    "\n",
    "# Function to preprocess the uploaded image\n",
    "def preprocess_image(image_path):\n",
    "    img = image.load_img(image_path, target_size=(150, 150))\n",
    "    img_array = image.img_to_array(img)\n",
    "    img_array = np.expand_dims(img_array, axis=0)\n",
    "    return img_array\n",
    "\n",
    "# Function to make predictions\n",
    "def predict_image(image_path):\n",
    "    preprocessed_img = preprocess_image(image_path)\n",
    "    prediction = model.predict(preprocessed_img)\n",
    "    if prediction < 0.5:\n",
    "        return 'Benign'\n",
    "    else:\n",
    "        return 'Malignant'\n",
    "\n",
    "# Upload a sample image and specify its path\n",
    "uploaded_image_path = '/teamspace/studios/this_studio/Augmented Data/aug_Malignant_0_862.jpeg'  # Modify this with the path to your uploaded image\n",
    "\n",
    "# Make a prediction\n",
    "prediction = predict_image(uploaded_image_path)\n",
    "print('Prediction:', prediction)"
   ]
  },
  {
   "cell_type": "code",
   "execution_count": null,
   "metadata": {},
   "outputs": [],
   "source": []
  }
 ],
 "metadata": {
  "kernelspec": {
   "display_name": "cloudspace",
   "language": "python",
   "name": "python3"
  },
  "language_info": {
   "codemirror_mode": {
    "name": "ipython",
    "version": 3
   },
   "file_extension": ".py",
   "mimetype": "text/x-python",
   "name": "python",
   "nbconvert_exporter": "python",
   "pygments_lexer": "ipython3",
   "version": "3.10.10"
  }
 },
 "nbformat": 4,
 "nbformat_minor": 2
}
